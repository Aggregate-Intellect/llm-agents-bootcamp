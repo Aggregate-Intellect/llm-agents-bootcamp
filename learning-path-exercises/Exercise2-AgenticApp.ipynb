{
  "cells": [
    {
      "cell_type": "markdown",
      "metadata": {
        "id": "qnEFKXLszj5G"
      },
      "source": [
        "# Introduction\n",
        "## **WELCOME!!👋👋**\n",
        "\n",
        "This notebook is the second exercise in the Learning Path for the Maven Course: [Build Multi-Agent Applications - A Bootcamp](https://maven.com/aggregate-intellect/llm-systems). ~~Before proceeding, ensure you have reviewed and understood the concepts covered in the first notebook about building~~:\n",
        "\n",
        "~~- A Retrieval-Augmented Generation (RAG) Application using LangChain~~\n",
        "\n",
        "Let’s build our first agent application together!\n"
      ]
    },
    {
      "cell_type": "markdown",
      "metadata": {
        "id": "amRqXDwKz8YB"
      },
      "source": [
        "## Objective 🎯:\n",
        "\n",
        "The goal is to create an agent that:\n",
        "- Create a comprehensive proposal for pitching a new weight loss drug to a pharma company (e.g. Bausch Health)\n",
        "- Uses the web to search for relevant details"
      ]
    },
    {
      "cell_type": "markdown",
      "metadata": {
        "id": "Am4v1AeP0Zq2"
      },
      "source": [
        "# Libraries Required for the Excercise"
      ]
    },
    {
      "cell_type": "code",
      "execution_count": 1,
      "metadata": {
        "id": "LNOObt-KNmmW"
      },
      "outputs": [],
      "source": [
        "%%capture --no-stderr\n",
        "!pip install -U --quiet langchain-community langchain_openai tavily-python langgraph"
      ]
    },
    {
      "cell_type": "markdown",
      "metadata": {
        "id": "DCv3Wfg30cWK"
      },
      "source": [
        "## Setup Required - APIs\n",
        "\n",
        "In this notebook you'll be using OpenAI models for reasoning and generation, Tavily for searching facts online, langsmith for tracing and langgraph for agent orchestration."
      ]
    },
    {
      "cell_type": "code",
      "execution_count": 3,
      "metadata": {
        "id": "zMexb4kjNtYC"
      },
      "outputs": [],
      "source": [
        "import getpass\n",
        "import os\n",
        "from langsmith import utils\n",
        "\n",
        "os.environ[\"LANGCHAIN_TRACING_V2\"] = \"true\"\n",
        "# define your langchain project name here\n",
        "os.environ[\"LANGCHAIN_PROJECT\"] = \"maven-course-learning-path\""
      ]
    },
    {
      "cell_type": "code",
      "execution_count": 4,
      "metadata": {
        "colab": {
          "base_uri": "https://localhost:8080/"
        },
        "id": "u0PDf7epNvVH",
        "outputId": "f4808c0a-dcc7-467c-d1ac-319a4cf5b237"
      },
      "outputs": [
        {
          "name": "stdout",
          "output_type": "stream",
          "text": [
            "Enter your OPENAI_API_KEY:··········\n",
            "Enter your LANGCHAIN_API_KEY:··········\n",
            "Enter your TAVILY_API_KEY:··········\n"
          ]
        }
      ],
      "source": [
        "def _set_env(key: str):\n",
        "    if key not in os.environ:\n",
        "        os.environ[key] = getpass.getpass(f\"Enter your {key}:\")\n",
        "\n",
        "\n",
        "_set_env(\"OPENAI_API_KEY\")\n",
        "_set_env(\"LANGCHAIN_API_KEY\")\n",
        "_set_env(\"TAVILY_API_KEY\")"
      ]
    },
    {
      "cell_type": "code",
      "execution_count": 5,
      "metadata": {
        "colab": {
          "base_uri": "https://localhost:8080/"
        },
        "id": "pITXSymBNxmE",
        "outputId": "f7bf5c92-c027-41e4-85d1-73850c24b090"
      },
      "outputs": [
        {
          "name": "stdout",
          "output_type": "stream",
          "text": [
            "Is Tracing is enabled: True\n"
          ]
        }
      ],
      "source": [
        "print('Is Tracing is enabled:', utils.tracing_is_enabled())"
      ]
    },
    {
      "cell_type": "markdown",
      "metadata": {
        "id": "edIbDc5B0feJ"
      },
      "source": [
        "## Imports"
      ]
    },
    {
      "cell_type": "code",
      "execution_count": 6,
      "metadata": {
        "id": "ic73__uWQOB-"
      },
      "outputs": [],
      "source": [
        "from typing import Literal\n",
        "from langchain_openai import ChatOpenAI\n",
        "from langchain_community.tools.tavily_search import TavilySearchResults\n",
        "from langgraph.graph import END, START, StateGraph, MessagesState\n",
        "from langgraph.prebuilt import ToolNode, create_react_agent\n",
        "from langchain_core.messages import HumanMessage"
      ]
    },
    {
      "cell_type": "code",
      "execution_count": 7,
      "metadata": {
        "id": "0rEqljaANo8F"
      },
      "outputs": [],
      "source": [
        "# First we initialize the model we want to use\n",
        "model = ChatOpenAI(model=\"gpt-4o-mini\")\n",
        "\n",
        "# For this tutorial we will use prebuilt tool Tavily that provides search results for a given query\n",
        "tools = [TavilySearchResults(max_results=3)]\n",
        "\n",
        "# Define the graph\n",
        "graph = create_react_agent(model, tools)"
      ]
    },
    {
      "cell_type": "markdown",
      "metadata": {
        "id": "TmAkkpdq1ekF"
      },
      "source": [
        "## Visualize Agent Workflow"
      ]
    },
    {
      "cell_type": "code",
      "execution_count": 8,
      "metadata": {
        "id": "THBJlQVOOpki"
      },
      "outputs": [],
      "source": [
        "def display_graph():\n",
        "  from IPython.display import Image, display\n",
        "\n",
        "  try:\n",
        "      display(Image(graph.get_graph(xray=True).draw_mermaid_png()))\n",
        "  except Exception:\n",
        "      # This requires some extra dependencies and is optional\n",
        "      pass"
      ]
    },
    {
      "cell_type": "code",
      "execution_count": 9,
      "metadata": {
        "colab": {
          "base_uri": "https://localhost:8080/",
          "height": 266
        },
        "id": "qcWtOniMT5LS",
        "outputId": "60124521-92d4-4e6f-9926-8e19be0e783e"
      },
      "outputs": [
        {
          "data": {
            "image/png": "[encoded data removed]",
            "text/plain": [
              "<IPython.core.display.Image object>"
            ]
          },
          "metadata": {},
          "output_type": "display_data"
        }
      ],
      "source": [
        "display_graph()"
      ]
    },
    {
      "cell_type": "markdown",
      "metadata": {
        "id": "ANB6JapL1jfn"
      },
      "source": [
        "## Invoke Agent"
      ]
    },
    {
      "cell_type": "code",
      "execution_count": 10,
      "metadata": {
        "id": "3ZQ72I4PTSN8"
      },
      "outputs": [],
      "source": [
        "def print_stream(stream):\n",
        "    for s in stream:\n",
        "        message = s[\"messages\"][-1]\n",
        "        if isinstance(message, tuple):\n",
        "            print(message)\n",
        "        else:\n",
        "            message.pretty_print()\n",
        "\n",
        "def get_response(input_prompt):\n",
        "  inputs = {\"messages\": [(\"user\", input_prompt)]}\n",
        "  print_stream(graph.stream(inputs, stream_mode=\"values\"))"
      ]
    },
    {
      "cell_type": "code",
      "execution_count": 11,
      "metadata": {
        "id": "0qbFil_gOliS"
      },
      "outputs": [],
      "source": [
        "input_prompt = \"\"\"You are an AI assistant tasked with creating a proposal for a new weight loss drug to pitch to Bausch Health.\n",
        "Use the Tavily search tool to gather information about Bausch Health and the pharmaceutical industry.\n",
        "\n",
        "Your proposal should include:\n",
        "1. Executive Summary\n",
        "2. Company Overview (Bausch Health)\n",
        "3. Product Description\n",
        "4. Market Analysis\n",
        "5. Marketing Strategy\n",
        "6. Financial Projections\n",
        "   - Include estimated production costs\n",
        "   - Projected sales and revenue\n",
        "7. Conclusion\n",
        "\n",
        "Ensure your proposal is well-structured, informative, and persuasive.\n",
        "\"\"\""
      ]
    },
    {
      "cell_type": "code",
      "execution_count": 12,
      "metadata": {
        "colab": {
          "base_uri": "https://localhost:8080/"
        },
        "id": "pvWcjZLUThWT",
        "outputId": "863b9319-7288-4137-8a3f-afac74ab3282"
      },
      "outputs": [
        {
          "name": "stdout",
          "output_type": "stream",
          "text": [
            "================================\u001b[1m Human Message \u001b[0m=================================\n",
            "\n",
            "You are an AI assistant tasked with creating a proposal for a new weight loss drug to pitch to Bausch Health.\n",
            "Use the Tavily search tool to gather information about Bausch Health and the pharmaceutical industry.\n",
            "\n",
            "Your proposal should include:\n",
            "1. Executive Summary\n",
            "2. Company Overview (Bausch Health)\n",
            "3. Product Description\n",
            "4. Market Analysis\n",
            "5. Marketing Strategy\n",
            "6. Financial Projections\n",
            "   - Include estimated production costs\n",
            "   - Projected sales and revenue\n",
            "7. Conclusion\n",
            "\n",
            "Ensure your proposal is well-structured, informative, and persuasive.\n",
            "\n",
            "==================================\u001b[1m Ai Message \u001b[0m==================================\n",
            "Tool Calls:\n",
            "  tavily_search_results_json (call_iSHhe11balehUnN0rmKjA53t)\n",
            " Call ID: call_iSHhe11balehUnN0rmKjA53t\n",
            "  Args:\n",
            "    query: Bausch Health overview\n",
            "  tavily_search_results_json (call_KsasnmoSvTNtlctD3lMJDyOb)\n",
            " Call ID: call_KsasnmoSvTNtlctD3lMJDyOb\n",
            "  Args:\n",
            "    query: pharmaceutical industry trends 2023\n",
            "  tavily_search_results_json (call_zgWL1fIXbPgU8CA0ycMNPAAK)\n",
            " Call ID: call_zgWL1fIXbPgU8CA0ycMNPAAK\n",
            "  Args:\n",
            "    query: weight loss drug market analysis\n",
            "=================================\u001b[1m Tool Message \u001b[0m=================================\n",
            "Name: tavily_search_results_json\n",
            "\n",
            "[{\"url\": \"https://www.marketresearchfuture.com/reports/weight-loss-drugs-market-24642\", \"content\": \"As per MRFR analysis, the Weight Loss Drugs Market Size was estimated at 231.53 (USD Billion) in 2022. The Weight Loss Drugs Market is expected to grow from 241.11 (USD Billion) in 2023 to 347.3 (USD Billion) by 2032. The Weight Loss Drugs Market CAGR (growth rate) is expected to be around 4.14% during the forecast period (2024 - 2032).\"}, {\"url\": \"https://www.cognitivemarketresearch.com/weight-loss-drugs-market-report\", \"content\": \"Application Segment Analysis of Weight Loss Drugs Market. This report forecasts revenue growth at the global, regional, and country levels and provides an analysis of the latest industry trends and opportunities for each application of Weight Loss Drugs from 2019 to 2031. This will also help to analyze the demand for Weight Loss Drugs across\"}, {\"url\": \"https://www.snsinsider.com/reports/weight-loss-drugs-market-4394\", \"content\": \"The Weight Loss Drugs Market Size was valued at USD 1.92 Billion in 2023 and is expected to reach USD 45.35 Billion by 2032 and grow at a CAGR of 43.73% over the forecast period 2024-2032. The growing obesity rates are the main factor driving the weight loss drugs market, largely boosting its growth. As of 2022, more than 650 million adults\"}]\n",
            "==================================\u001b[1m Ai Message \u001b[0m==================================\n",
            "\n",
            "### Proposal for a New Weight Loss Drug to Bausch Health\n",
            "\n",
            "#### 1. Executive Summary\n",
            "This proposal outlines a strategic plan for the development and marketing of a new weight loss drug, targeting the growing obesity epidemic and the expanding pharmaceutical market. With Bausch Health's commitment to improving health outcomes, this innovative product can meet the rising demand for effective weight management solutions, projected to achieve significant market penetration and revenue growth.\n",
            "\n",
            "#### 2. Company Overview (Bausch Health)\n",
            "Bausch Health Companies Inc. is a global, diversified pharmaceutical company dedicated to enhancing people's lives through its diverse portfolio of pharmaceutical products. The company operates primarily in gastroenterology, hepatology, neurology, dermatology, and medical aesthetics. Bausch Health is focused on delivering better health outcomes through relentless innovation and has a mission aligned with creating meaningful advancements in patient care. \n",
            "\n",
            "For more information, visit [Bausch Health](https://www.bauschhealth.com/about-us/who-we-are/).\n",
            "\n",
            "#### 3. Product Description\n",
            "The proposed weight loss drug will utilize a novel mechanism of action, targeting appetite regulation and metabolic enhancement. This drug aims to provide a safe and effective solution for individuals struggling with obesity, potentially leading to significant weight loss and improved health metrics. Clinical trials will ensure its safety and efficacy, with a goal to position it as a first-line treatment option.\n",
            "\n",
            "#### 4. Market Analysis\n",
            "The weight loss drugs market is projected to grow from approximately USD 241.11 billion in 2023 to USD 347.3 billion by 2032, with a compound annual growth rate (CAGR) of about 4.14%. The increasing prevalence of obesity, which affects over 650 million adults globally, drives this growth. The demand for effective, clinically validated weight loss solutions remains high, presenting a significant opportunity for Bausch Health.\n",
            "\n",
            "#### 5. Marketing Strategy\n",
            "Our marketing strategy will focus on:\n",
            "- **Target Audience:** Adults aged 18-65, particularly those classified as overweight or obese.\n",
            "- **Channels:** Digital marketing, social media campaigns, partnerships with healthcare professionals, and direct-to-consumer advertising.\n",
            "- **Messaging:** Emphasizing the drug's safety, effectiveness, and the lifestyle improvements it can facilitate.\n",
            "- **Patient Engagement:** Utilizing real-world evidence and patient testimonials to build trust and credibility.\n",
            "\n",
            "#### 6. Financial Projections\n",
            "- **Estimated Production Costs:** Initial production costs are projected at USD 50 million, considering R&D, manufacturing, and regulatory compliance expenses.\n",
            "- **Projected Sales and Revenue:** Based on market trends, we anticipate annual sales reaching USD 500 million by the third year post-launch, with revenue projections scaling up to USD 1 billion by year five.\n",
            "\n",
            "#### 7. Conclusion\n",
            "With the increasing rates of obesity and the corresponding demand for effective weight management solutions, Bausch Health is well-positioned to introduce a new weight loss drug that not only aligns with its mission but also meets a critical health need in society. This proposal outlines the strategic steps necessary to ensure successful product development and market entry, with the potential for substantial financial returns and enhanced patient outcomes. \n",
            "\n",
            "We look forward to discussing this proposal further and exploring the opportunities that lie ahead for Bausch Health in the weight loss pharmaceutical sector.\n"
          ]
        }
      ],
      "source": [
        "get_response(input_prompt)"
      ]
    },
    {
      "cell_type": "markdown",
      "metadata": {
        "id": "SswmH5ZL1s-g"
      },
      "source": [
        "### Now let's try a question that doesn't need to use the Tavily search tool"
      ]
    },
    {
      "cell_type": "code",
      "execution_count": 13,
      "metadata": {
        "colab": {
          "base_uri": "https://localhost:8080/"
        },
        "id": "WQRB_j4LRECD",
        "outputId": "8a9e830f-4612-46c9-c655-f69cf61207e6"
      },
      "outputs": [
        {
          "name": "stdout",
          "output_type": "stream",
          "text": [
            "================================\u001b[1m Human Message \u001b[0m=================================\n",
            "\n",
            "What is An AI Agent\n",
            "==================================\u001b[1m Ai Message \u001b[0m==================================\n",
            "\n",
            "An AI agent is a system or program that uses artificial intelligence to perform tasks or make decisions autonomously or semi-autonomously. These agents can analyze data, learn from experiences, and interact with their environment or users. AI agents can vary in complexity and function, ranging from simple rule-based systems to advanced machine learning models capable of understanding natural language, recognizing images, or predicting outcomes.\n",
            "\n",
            "Key characteristics of AI agents include:\n",
            "\n",
            "1. **Autonomy**: They can operate without human intervention.\n",
            "2. **Adaptability**: They can learn from data and improve their performance over time.\n",
            "3. **Interactivity**: Many AI agents can communicate with users or other systems.\n",
            "4. **Goal-oriented behavior**: They are designed to accomplish specific tasks or objectives.\n",
            "\n",
            "Examples include virtual assistants like Siri and Alexa, autonomous vehicles, chatbots, and recommendation systems used by online platforms.\n"
          ]
        }
      ],
      "source": [
        "get_response(input_prompt = 'What is An AI Agent')"
      ]
    },
    {
      "cell_type": "markdown",
      "metadata": {
        "id": "OhpTlgY712qc"
      },
      "source": [
        "## Build it From Scratch"
      ]
    },
    {
      "cell_type": "code",
      "execution_count": 14,
      "metadata": {
        "id": "REU37nkuRcbQ"
      },
      "outputs": [],
      "source": [
        "# Define the tools for the agent to use\n",
        "tools = [TavilySearchResults(max_results=2)]\n",
        "tool_node = ToolNode(tools)\n",
        "\n",
        "model = ChatOpenAI(model=\"gpt-4o\",\n",
        "                temperature=0).bind_tools(tools)\n",
        "\n",
        "# Define the function that determines whether to continue or not\n",
        "def should_continue(state: MessagesState) -> Literal[\"tools\", END]:\n",
        "    messages = state['messages']\n",
        "    last_message = messages[-1]\n",
        "    # If the LLM makes a tool call, then we route to the \"tools\" node\n",
        "    if last_message.tool_calls:\n",
        "        return \"tools\"\n",
        "    # Otherwise, we stop (reply to the user)\n",
        "    return END\n",
        "\n",
        "# Define the function that calls the model\n",
        "def call_model(state: MessagesState):\n",
        "    messages = state['messages']\n",
        "    response = model.invoke(messages)\n",
        "    # We return a list, because this will get added to the existing list\n",
        "    return {\"messages\": [response]}\n",
        "\n",
        "# Define a new graph\n",
        "workflow = StateGraph(MessagesState)\n",
        "\n",
        "# Define the two nodes we will cycle between\n",
        "workflow.add_node(\"agent\", call_model)\n",
        "workflow.add_node(\"tools\", tool_node)\n",
        "\n",
        "# Set the entrypoint as `agent`\n",
        "# This means that this node is the first one called\n",
        "workflow.add_edge(START, \"agent\")\n",
        "\n",
        "# We now add a conditional edge\n",
        "workflow.add_conditional_edges(\n",
        "    # First, we define the start node. We use `agent`.\n",
        "    # This means these are the edges taken after the `agent` node is called.\n",
        "    \"agent\",\n",
        "    # Next, we pass in the function that will determine which node is called next.\n",
        "    should_continue,\n",
        ")\n",
        "\n",
        "# We now add a normal edge from `tools` to `agent`.\n",
        "# This means that after `tools` is called, `agent` node is called next.\n",
        "workflow.add_edge(\"tools\", 'agent')\n",
        "\n",
        "# This compiles it into a LangChain Runnable,\n",
        "# meaning you can use it as you would any other runnable.\n",
        "graph = workflow.compile()"
      ]
    },
    {
      "cell_type": "code",
      "execution_count": 15,
      "metadata": {
        "colab": {
          "base_uri": "https://localhost:8080/",
          "height": 266
        },
        "id": "GpFtjtfKSsY-",
        "outputId": "80b5dc9e-c9d9-4e41-f4db-2e6336f3912c"
      },
      "outputs": [
        {
          "data": {
            "image/png": "[encoded data removed]",
            "text/plain": [
              "<IPython.core.display.Image object>"
            ]
          },
          "metadata": {},
          "output_type": "display_data"
        }
      ],
      "source": [
        "display_graph()"
      ]
    },
    {
      "cell_type": "code",
      "execution_count": 16,
      "metadata": {
        "colab": {
          "base_uri": "https://localhost:8080/"
        },
        "id": "xlNZYIFqTIzy",
        "outputId": "8d72a795-dfb6-4221-dac0-6970068c1566"
      },
      "outputs": [
        {
          "name": "stdout",
          "output_type": "stream",
          "text": [
            "================================\u001b[1m Human Message \u001b[0m=================================\n",
            "\n",
            "You are an AI assistant tasked with creating a proposal for a new weight loss drug to pitch to Bausch Health.\n",
            "Use the Tavily search tool to gather information about Bausch Health and the pharmaceutical industry.\n",
            "\n",
            "Your proposal should include:\n",
            "1. Executive Summary\n",
            "2. Company Overview (Bausch Health)\n",
            "3. Product Description\n",
            "4. Market Analysis\n",
            "5. Marketing Strategy\n",
            "6. Financial Projections\n",
            "   - Include estimated production costs\n",
            "   - Projected sales and revenue\n",
            "7. Conclusion\n",
            "\n",
            "Ensure your proposal is well-structured, informative, and persuasive.\n",
            "\n",
            "==================================\u001b[1m Ai Message \u001b[0m==================================\n",
            "Tool Calls:\n",
            "  tavily_search_results_json (call_yIvTQ616iEiZnz31lT0FR0OV)\n",
            " Call ID: call_yIvTQ616iEiZnz31lT0FR0OV\n",
            "  Args:\n",
            "    query: Bausch Health company overview\n",
            "  tavily_search_results_json (call_uyi7wCC3K444ySCGcGUPVrBZ)\n",
            " Call ID: call_uyi7wCC3K444ySCGcGUPVrBZ\n",
            "  Args:\n",
            "    query: current trends in the pharmaceutical industry 2023\n",
            "  tavily_search_results_json (call_hbLdjLaPmeWAGy6mGMxqoKzh)\n",
            " Call ID: call_hbLdjLaPmeWAGy6mGMxqoKzh\n",
            "  Args:\n",
            "    query: weight loss drug market analysis 2023\n",
            "  tavily_search_results_json (call_cHCuT2RRq9O3WGn0LgpZlfy2)\n",
            " Call ID: call_cHCuT2RRq9O3WGn0LgpZlfy2\n",
            "  Args:\n",
            "    query: marketing strategies for pharmaceutical products\n",
            "  tavily_search_results_json (call_5pmT5v5PJVupczTwdRi4a11C)\n",
            " Call ID: call_5pmT5v5PJVupczTwdRi4a11C\n",
            "  Args:\n",
            "    query: production costs for pharmaceutical drugs\n",
            "=================================\u001b[1m Tool Message \u001b[0m=================================\n",
            "Name: tavily_search_results_json\n",
            "\n",
            "[{\"url\": \"https://link.springer.com/article/10.1007/s12247-008-9024-4\", \"content\": \"In the pharmaceutical industry, costs attributed to manufacturing are a major part of a company's total expenses. ... prescription drugs accounted for 8.2% of the total national ... —also referred to as materials and production cost. Cost of goods sold is an aggregate figure that includes all costs incurred in producing the goods including\"}, {\"url\": \"https://jamanetwork.com/journals/jamanetworkopen/fullarticle/2820562\", \"content\": \"At one end of the spectrum are anti-infective drugs, which cost approximately one-third of the estimated mean (inclusive of cost of capital and cost of failures) at $378.7 million (95% CI, $244.6-$556.1 million), and at the other end are pain and anesthesia drugs, which were more than twice as costly to develop at $1756.2 million (95% CI, $648.\"}]\n",
            "==================================\u001b[1m Ai Message \u001b[0m==================================\n",
            "\n",
            "# Proposal for a New Weight Loss Drug\n",
            "\n",
            "## Executive Summary\n",
            "This proposal outlines the development and launch of a new weight loss drug, targeting the growing obesity epidemic. With the global obesity drug market projected to reach $105 billion by 2030, this presents a lucrative opportunity for Bausch Health to expand its product portfolio. Our drug will leverage cutting-edge research and technology to offer a safe, effective solution for weight management, aligning with current pharmaceutical trends and market demands.\n",
            "\n",
            "## Company Overview (Bausch Health)\n",
            "Bausch Health Companies Inc. is a global, diversified pharmaceutical company headquartered in Laval, Canada. The company develops, manufactures, and markets a wide range of products in areas such as gastroenterology, hepatology, neurology, dermatology, and eye health. Bausch Health is committed to improving health outcomes through innovative solutions and has a strong presence in both the pharmaceutical and medical device sectors.\n",
            "\n",
            "## Product Description\n",
            "Our proposed weight loss drug will be a prescription medication designed to aid in weight management by targeting specific metabolic pathways. It will be developed using the latest advancements in drug discovery and clinical research, ensuring high efficacy and safety. The drug will be positioned as a premium product, offering a unique value proposition to healthcare providers and patients.\n",
            "\n",
            "## Market Analysis\n",
            "The U.S. weight loss market has reached a historic peak of $90 billion in 2023, driven by the demand for prescription GLP-1 weight loss drugs. The global obesity drug market is expected to grow significantly, with sales projected to reach $105 billion by 2030. This growth is fueled by increasing obesity rates and a shift towards medical weight management solutions. Our drug will capitalize on these trends, offering a competitive edge in a rapidly expanding market.\n",
            "\n",
            "## Marketing Strategy\n",
            "Our marketing strategy will focus on differentiating our product by emphasizing its clinical effectiveness and safety. We will target healthcare providers through educational campaigns and partnerships, highlighting the drug's benefits and ease of use. Direct-to-consumer marketing will also play a role, leveraging digital platforms to reach potential patients and raise awareness about the product.\n",
            "\n",
            "## Financial Projections\n",
            "- **Estimated Production Costs**: The cost of developing a new pharmaceutical drug can vary widely, with estimates ranging from $378.7 million to over $1 billion, depending on the complexity and therapeutic area.\n",
            "- **Projected Sales and Revenue**: Given the market potential, we anticipate capturing a significant share of the obesity drug market. With strategic marketing and distribution, we project annual sales to reach $500 million within the first five years post-launch, contributing substantially to Bausch Health's revenue growth.\n",
            "\n",
            "## Conclusion\n",
            "The development of a new weight loss drug presents a strategic opportunity for Bausch Health to enter a high-growth market and address a critical public health issue. By leveraging our expertise in pharmaceutical development and marketing, we can deliver a product that meets the needs of healthcare providers and patients, driving both health outcomes and business success.\n"
          ]
        }
      ],
      "source": [
        "get_response(input_prompt)"
      ]
    }
  ],
  "metadata": {
    "colab": {
      "provenance": []
    },
    "kernelspec": {
      "display_name": "Python 3",
      "name": "python3"
    },
    "language_info": {
      "name": "python"
    }
  },
  "nbformat": 4,
  "nbformat_minor": 0
}
