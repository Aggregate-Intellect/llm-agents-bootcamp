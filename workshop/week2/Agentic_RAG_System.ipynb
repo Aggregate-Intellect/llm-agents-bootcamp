{
  "cells": [
    {
      "cell_type": "markdown",
      "metadata": {
        "id": "C3sQoe2Tg_fb"
      },
      "source": [
        "# 📚 Agentic RAG System\n",
        "This project implements an **intelligent research assistant** that retrieves and synthesizes information using:\n",
        "1. **ArXiv papers** as the primary knowledge source (**RAG approach**)\n",
        "2. **Web search (Tavily API)**\n",
        "3. **LangGraph** for orchestrating the decision-making workflow\n",
        "\n",
        "## 🎯 Purpose\n",
        "\n",
        "The system is designed to provide research-backed answers to technical and scientific questions by:\n",
        "- Prioritizing academic and research papers from ArXiv for scientific queries\n",
        "- Falling back to web search for recent developments or non-academic topics\n",
        "- Maintaining conversation context for coherent multi-turn interactions\n",
        "- Ensuring proper attribution and citations in responses\n",
        "\n",
        "## 🔑 Prerequisites\n",
        "\n",
        "To use this system, you'll need:\n",
        "\n",
        "1. **OpenAI API Key**\n",
        "   - Required for:\n",
        "     - Text embeddings (for semantic search)\n",
        "     - Response generation (GPT-4 Turbo)\n",
        "     - Routing decisions (GPT-4o-mini)\n",
        "   - Get it from: [OpenAI Platform](https://platform.openai.com)\n",
        "\n",
        "2. **Tavily API Key**\n",
        "   - Required for:\n",
        "     - Web search fallback functionality\n",
        "     - Real-time information retrieval\n",
        "     - Academic domain filtering\n",
        "   - Get it from: [Tavily](https://app.tavily.com)\n",
        "\n",
        "3. **Python Environment**\n",
        "   - Python 3.8 or higher\n",
        "   - Required packages (will be installed automatically):\n",
        "     - langchain-community\n",
        "     - langchain_chroma\n",
        "     - langchain_core\n",
        "     - langchain_openai\n",
        "     - langchain_text_splitters\n",
        "     - langgraph\n",
        "     - tavily-python\n",
        "     - openai\n",
        "     - python-dotenv\n",
        "\n",
        "\n",
        "## 🤖 Agentic Workflow Architecture\n",
        "\n",
        "The user workflow is translated into an agentic system through the following components:\n",
        "\n",
        "1. **State Management**\n",
        "   - **Conversation State**: Tracks user queries, system responses, and context\n",
        "   - **Search State**: Maintains information about current search results and sources\n",
        "   - **Decision State**: Stores routing decisions and their rationale\n",
        "\n",
        "2. **Agent Components**\n",
        "   - **Router Agent**: Makes decisions about information sources\n",
        "     - Analyzes query type and context\n",
        "     - Determines optimal search strategy\n",
        "     - Handles fallback mechanisms\n",
        "   \n",
        "   - **Search Agent**: Executes information retrieval\n",
        "     - Manages ArXiv API interactions\n",
        "     - Handles Tavily web search\n",
        "     - Processes and filters results\n",
        "   \n",
        "   - **Synthesis Agent**: Combines and formats information\n",
        "     - Merges multiple sources\n",
        "     - Ensures proper attribution\n",
        "     - Generates coherent responses\n",
        "\n",
        "3. **Feedback Loop**\n",
        "   - System learns from user interactions\n",
        "   - Improves routing decisions over time\n",
        "   - Adapts to user preferences and query patterns\n",
        "\n",
        "## 📊 Data Requirements and Sources\n",
        "\n",
        "The system requires and manages several types of data:\n",
        "\n",
        "1. **Input Data**\n",
        "   - **User Queries**: Natural language questions and follow-ups\n",
        "   - **Conversation History**: Previous interactions for context\n",
        "   - **User Preferences**: Optional settings for search behavior\n",
        "\n",
        "2. **Knowledge Sources**\n",
        "   - **ArXiv Papers**:\n",
        "     - Source: ArXiv API\n",
        "     - Format: PDF documents\n",
        "     - Update Frequency: Daily\n",
        "     - Coverage: Scientific and technical papers\n",
        "   \n",
        "   - **Web Content**:\n",
        "     - Source: Tavily API\n",
        "     - Format: Web pages and documents\n",
        "     - Update Frequency: Real-time\n",
        "     - Coverage: News, blogs, documentation, etc.\n",
        "\n",
        "3. **Processed Data**\n",
        "   - **Embeddings**: Vector representations of text\n",
        "     - Generated using OpenAI's embedding model\n",
        "     - Stored in vector database\n",
        "   \n",
        "   - **Chunks**: Processed text segments\n",
        "     - Size: Optimized for semantic search\n",
        "     - Metadata: Source, date, relevance score\n",
        "   \n",
        "   - **Citations**: Reference information\n",
        "     - Paper titles, authors, URLs\n",
        "     - Web page sources and dates\n",
        "\n",
        "4. **Output Data**\n",
        "   - **Responses**: Generated answers with citations\n",
        "   - **Search Results**: Ranked and filtered information\n",
        "   - **Conversation Logs**: Interaction history\n"
      ]
    },
    {
      "cell_type": "markdown",
      "metadata": {
        "id": "wi4l10mgMCY6"
      },
      "source": [
        "[link text](https://)"
      ]
    },
    {
      "cell_type": "code",
      "execution_count": null,
      "metadata": {
        "collapsed": true,
        "id": "0zyWACuhcfqG"
      },
      "outputs": [],
      "source": [
        "%%capture\n",
        "# Install required packages\n",
        "! pip install -qU langchain langgraph pypdf chromadb tavily-python openai python-dotenv pyboxen langchain-community langchain_chroma langchain_core langchain_openai langchain_text_splitters"
      ]
    },
    {
      "cell_type": "code",
      "execution_count": null,
      "metadata": {
        "id": "MDJAvAUpcjmN"
      },
      "outputs": [],
      "source": [
        "# Import required libraries\n",
        "import os  # Provides functions to interact with the operating system.\n",
        "from pyboxen import boxen  # Used to display stylized boxes in the terminal for better CLI UI.\n",
        "from getpass import getpass  # Allows secure password input without echoing.\n",
        "\n",
        "from typing import TypedDict, List, Dict, Optional, Literal, Union, Annotated, cast  # Used for type annotations and static type checking.\n",
        "from langchain_core.documents import Document  # Represents and structures text data in LangChain.\n",
        "from langchain_core.output_parsers import StrOutputParser  # Parses raw LLM output into usable string format.\n",
        "from langchain_community.document_loaders import PyPDFLoader  # Loads and extracts text from PDF documents.\n",
        "\n",
        "from langchain_text_splitters import MarkdownHeaderTextSplitter, RecursiveCharacterTextSplitter  # Splits text into chunks using markdown headers or character limits.\n",
        "\n",
        "from langchain_chroma import Chroma  # Provides integration with Chroma vector store for embedding storage and retrieval.\n",
        "from langchain_openai import OpenAIEmbeddings, ChatOpenAI  # Interfaces with OpenAI for embeddings and chat models.\n",
        "\n",
        "from langchain_core.prompts import ChatPromptTemplate  # Manages prompt templates for chat-based interactions.\n",
        "\n",
        "from langgraph.graph import StateGraph, END  # Helps define state-based logic flows for chat systems.\n",
        "from langchain.memory import ConversationBufferMemory  # Maintains memory of past conversation for context retention.\n",
        "\n",
        "from tavily import TavilyClient  # Interfaces with Tavily for real-time web search."
      ]
    },
    {
      "cell_type": "markdown",
      "metadata": {
        "id": "aOl5svrxoDkQ"
      },
      "source": [
        "# API Key Submission\n",
        "\n",
        "Please follow the instructions below:\n",
        "\n",
        "1. **Provide the Tavily API Key**\n",
        "2. **Provide the Open API Key**\n",
        "3. **Press Enter** to proceed\n"
      ]
    },
    {
      "cell_type": "code",
      "execution_count": null,
      "metadata": {
        "colab": {
          "base_uri": "https://localhost:8080/"
        },
        "collapsed": true,
        "id": "y1CrD7yecpRF",
        "outputId": "46b8d2b4-60bb-4e16-dd05-f6415a5ead6a"
      },
      "outputs": [],
      "source": [
        "# Set API keys\n",
        "os.environ[\"TAVILY_API_KEY\"] = getpass(\"Enter Tavily API Key (get from https://app.tavily.com): \")\n",
        "os.environ[\"OPENAI_API_KEY\"] = getpass(\"Enter OpenAI API Key: \")"
      ]
    },
    {
      "cell_type": "markdown",
      "metadata": {
        "id": "OVsoCt4BhfRp"
      },
      "source": [
        "## 2. Define State and System Architecture\n",
        "\n",
        "This is important because Agents need context to take decisions and showcase \"Agency\", the state helps us define the information that the agent will require and also capture information through out the whole process.\n",
        "\n",
        "We'll define our system's state and flow using **LangGraph**. The state will track our:\n",
        "- **Input question**\n",
        "- **Retrieved ArXiv results**\n",
        "- **Web search results**\n",
        "- **Final answer**\n",
        "- **Conversation history for context**\n"
      ]
    },
    {
      "cell_type": "code",
      "execution_count": null,
      "metadata": {
        "id": "9DX0VBugddBN"
      },
      "outputs": [],
      "source": [
        "# Define our system state - this is what passes between nodes in our graph\n",
        "class AgentState(TypedDict):\n",
        "    \"\"\"State definition for our agentic RAG system\"\"\"\n",
        "    question: str  # User's current question\n",
        "    arxiv_results: Optional[List[Document]]  # Results from ArXiv papers (if any)\n",
        "    web_results: Optional[List[Dict]]  # Results from web search (if any)\n",
        "    answer: str  # Final synthesized answer\n",
        "    conversation_history: str  # Previous Q&A for context\n",
        "    memory: any"
      ]
    },
    {
      "cell_type": "markdown",
      "metadata": {
        "id": "Ym7UTPc4hpli"
      },
      "source": [
        "## 3. Router Node Implementation\n",
        "\n",
        "The **Router Node** is responsible for deciding whether to use **ArXiv papers** or **web search**.\n",
        "- **First**, it tries to use **ArXiv papers** (our local knowledge source).\n",
        "- **Falls back** to **web search** if needed.\n",
        "\n",
        "This demonstrates **strategic decision-making capabilities**.\n"
      ]
    },
    {
      "cell_type": "code",
      "execution_count": null,
      "metadata": {
        "id": "4oSbkgqwdh_R"
      },
      "outputs": [],
      "source": [
        "router_prompt = ChatPromptTemplate.from_template(\"\"\"\n",
        "You are a highly specialized research assistant with access to two information sources:\n",
        "1. A collection of ArXiv research papers\n",
        "2. A web search tool\n",
        "\n",
        "Your task is to determine which source would be better to answer the user's question.\n",
        "FIRST try to use ArXiv papers for scientific and academic questions.\n",
        "ONLY use web search if:\n",
        "- The question requires very recent information not likely in research papers\n",
        "- The question is about general knowledge, news, or non-academic topics\n",
        "- The question asks for information beyond what academic papers would contain\n",
        "\n",
        "Consider the conversation history for context.\n",
        "\n",
        "Question: {question}\n",
        "Conversation History: {conversation_history}\n",
        "\n",
        "Respond with ONLY ONE of these two options:\n",
        "\"arxiv\" - if the question should be answered using research papers\n",
        "\"web\" - if the question requires web search\n",
        "\n",
        "Your decision should be a single word only (either \"arxiv\" or \"web\"). Do not include any explanation, reasoning, or additional text in your response.\n",
        "\"\"\")\n",
        "\n",
        "def router_node(state: AgentState) -> dict:\n",
        "    \"\"\"\n",
        "    Determines whether to use ArXiv papers or web search based on the question.\n",
        "\n",
        "    Args:\n",
        "        state: Current state containing the question and conversation history\n",
        "\n",
        "    Returns:\n",
        "        Dict indicating which path to take next\n",
        "    \"\"\"\n",
        "    # Use a lighter model for routing decisions\n",
        "    llm = ChatOpenAI(model=\"gpt-4o-mini\")\n",
        "\n",
        "    # Create a chain that outputs just the decision text\n",
        "    chain = router_prompt | llm\n",
        "\n",
        "    # Invoke the chain with our question and history\n",
        "    # Get the content of the AIMessage object instead of directly calling strip()\n",
        "    decision = chain.invoke({\n",
        "        \"question\": state[\"question\"],\n",
        "        \"conversation_history\": state[\"conversation_history\"]\n",
        "    }).content.strip().lower()\n",
        "\n",
        "    print(f\"Router decision: {decision}\")\n",
        "\n",
        "    # Return the next node to be called based on the decision\n",
        "    if \"web\" in decision:\n",
        "        return {\"next\": \"web_search\"}\n",
        "    else:\n",
        "        return {\"next\": \"arxiv_retrieval\"}"
      ]
    },
    {
      "cell_type": "markdown",
      "metadata": {
        "id": "0D_WGWpKhz4D"
      },
      "source": [
        "# ArXiv Processor Documentation\n",
        "\n",
        "## Overview\n",
        "The `ArXivProcessor` class is designed to handle processing ArXiv PDFs for retrieval-augmented generation (RAG) systems. It implements document-aware chunking strategies specifically optimized for scientific papers.\n",
        "\n",
        "## Key Features\n",
        "- **Two-step chunking strategy**:\n",
        " 1. Markdown header splitting to preserve document structure\n",
        " 2. Recursive character splitting for handling longer sections effectively\n",
        "- **Confidence-based retrieval** with threshold filtering\n",
        "- **Metadata preservation** from original PDFs\n",
        "\n",
        "## Class Structure\n",
        "\n",
        "### Constructor: `__init__()`\n",
        "Initializes the processor with specialized document chunking strategies:\n",
        "- `MarkdownHeaderTextSplitter` to maintain document section structure\n",
        "- `RecursiveCharacterTextSplitter` for detailed content subdivision\n",
        "\n",
        "### Methods\n",
        "\n",
        "#### `load_and_process(pdf_urls: List[str])`\n",
        "Processes ArXiv PDFs with document-aware chunking:\n",
        "- Loads PDFs from provided URLs\n",
        "- Converts content to markdown-style text with headers\n",
        "- Applies two-stage chunking process\n",
        "- Creates a vector store with OpenAI embeddings\n",
        "\n",
        "#### `retrieve(question: str, confidence_threshold: float = 0.75, k: int = 5)`\n",
        "Retrieves relevant chunks with confidence scoring:\n",
        "- Performs similarity search based on user query\n",
        "- Filters results by confidence threshold\n",
        "- Returns only high-relevance document chunks\n",
        "\n",
        "## Implementation Example\n",
        "The documented code includes a sample implementation that loads and processes two ArXiv papers:\n",
        "- Quantum computing paper: https://arxiv.org/pdf/2305.10343.pdf\n",
        "- LLM research paper: https://arxiv.org/pdf/2303.04137.pdf\n",
        "\n",
        "## Dependencies\n",
        "- `PyPDFLoader` for PDF handling\n",
        "- `MarkdownHeaderTextSplitter` and `RecursiveCharacterTextSplitter` for content chunking\n",
        "- `OpenAIEmbeddings` for vector embeddings\n",
        "- `Chroma` for vector storage"
      ]
    },
    {
      "cell_type": "code",
      "execution_count": null,
      "metadata": {
        "colab": {
          "base_uri": "https://localhost:8080/",
          "height": 434
        },
        "id": "QeTPjOKgdom7",
        "outputId": "56c7257b-75fe-4ba7-fe5b-19c09d6d74b5"
      },
      "outputs": [
        {
          "data": {
            "text/html": [
              "<pre style=\"white-space:pre;overflow-x:auto;line-height:normal;font-family:Menlo,'DejaVu Sans Mono',consolas,'Courier New',monospace\"></pre>\n"
            ],
            "text/plain": []
          },
          "metadata": {},
          "output_type": "display_data"
        },
        {
          "name": "stdout",
          "output_type": "stream",
          "text": [
            "\u001b[36m╭─\u001b[0m\u001b[36m >>> Initialization \u001b[0m\u001b[36m──────────────────────────────────\u001b[0m\u001b[36m─╮\u001b[0m                                                         \n",
            "\u001b[36m│\u001b[0m                                                        \u001b[36m│\u001b[0m                                                         \n",
            "\u001b[36m│\u001b[0m   Initializing ArXiv processor with sample papers...   \u001b[36m│\u001b[0m                                                         \n",
            "\u001b[36m│\u001b[0m                                                        \u001b[36m│\u001b[0m                                                         \n",
            "\u001b[36m╰────────────────────────────────────────────────────────╯\u001b[0m                                                         \n",
            "\n"
          ]
        },
        {
          "data": {
            "text/html": [
              "<pre style=\"white-space:pre;overflow-x:auto;line-height:normal;font-family:Menlo,'DejaVu Sans Mono',consolas,'Courier New',monospace\"></pre>\n"
            ],
            "text/plain": []
          },
          "metadata": {},
          "output_type": "display_data"
        },
        {
          "name": "stdout",
          "output_type": "stream",
          "text": [
            "\u001b[34m╭─\u001b[0m\u001b[34m >>> PDF Loading \u001b[0m\u001b[34m────────────────────────────────────\u001b[0m\u001b[34m─╮\u001b[0m                                                          \n",
            "\u001b[34m│\u001b[0m                                                       \u001b[34m│\u001b[0m                                                          \n",
            "\u001b[34m│\u001b[0m   Loading PDF from https://arxiv.org/pdf/2504.10412   \u001b[34m│\u001b[0m                                                          \n",
            "\u001b[34m│\u001b[0m                                                       \u001b[34m│\u001b[0m                                                          \n",
            "\u001b[34m╰───────────────────────────────────────────────────────╯\u001b[0m                                                          \n",
            "\n"
          ]
        },
        {
          "data": {
            "text/html": [
              "<pre style=\"white-space:pre;overflow-x:auto;line-height:normal;font-family:Menlo,'DejaVu Sans Mono',consolas,'Courier New',monospace\"></pre>\n"
            ],
            "text/plain": []
          },
          "metadata": {},
          "output_type": "display_data"
        },
        {
          "name": "stdout",
          "output_type": "stream",
          "text": [
            "\u001b[32m╭─\u001b[0m\u001b[32m >>> Processing Complete \u001b[0m\u001b[32m────────\u001b[0m\u001b[32m─╮\u001b[0m                                                                              \n",
            "\u001b[32m│\u001b[0m                                   \u001b[32m│\u001b[0m                                                                              \n",
            "\u001b[32m│\u001b[0m   Created 35 chunks from 1 PDFs   \u001b[32m│\u001b[0m                                                                              \n",
            "\u001b[32m│\u001b[0m                                   \u001b[32m│\u001b[0m                                                                              \n",
            "\u001b[32m╰───────────────────────────────────╯\u001b[0m                                                                              \n",
            "\n"
          ]
        },
        {
          "data": {
            "text/html": [
              "<pre style=\"white-space:pre;overflow-x:auto;line-height:normal;font-family:Menlo,'DejaVu Sans Mono',consolas,'Courier New',monospace\"></pre>\n"
            ],
            "text/plain": []
          },
          "metadata": {},
          "output_type": "display_data"
        },
        {
          "name": "stdout",
          "output_type": "stream",
          "text": [
            "\u001b[32m╭─\u001b[0m\u001b[32m >>> Status \u001b[0m\u001b[32m────────────────────\u001b[0m\u001b[32m─╮\u001b[0m                                                                               \n",
            "\u001b[32m│\u001b[0m                                  \u001b[32m│\u001b[0m                                                                               \n",
            "\u001b[32m│\u001b[0m   ArXiv processor initialized!   \u001b[32m│\u001b[0m                                                                               \n",
            "\u001b[32m│\u001b[0m                                  \u001b[32m│\u001b[0m                                                                               \n",
            "\u001b[32m╰──────────────────────────────────╯\u001b[0m                                                                               \n",
            "\n"
          ]
        }
      ],
      "source": [
        "class ArXivProcessor:\n",
        "    \"\"\"\n",
        "    Handles processing ArXiv PDFs for retrieval-augmented generation.\n",
        "    \"\"\"\n",
        "    def __init__(self):\n",
        "        \"\"\"\n",
        "        Initialize the processor with document-aware chunking strategies.\n",
        "\n",
        "        The chunking strategy uses a two-step approach:\n",
        "        1. Markdown header splitting preserves document structure and headers\n",
        "        2. Recursive character splitting handles longer sections effectively\n",
        "        \"\"\"\n",
        "        # Header splitter preserves section structure in scientific papers\n",
        "        self.header_splitter = MarkdownHeaderTextSplitter(\n",
        "            headers_to_split_on=[\n",
        "                (\"#\", \"Section\"),           # Main sections\n",
        "                (\"##\", \"Subsection\"),       # Subsections\n",
        "                (\"###\", \"Subsubsection\")    # Sub-subsections\n",
        "            ]\n",
        "        )\n",
        "\n",
        "        # Recursive splitter handles nested hierarchies and technical content\n",
        "        # - Chunk size of 1000 balances context vs specificity\n",
        "        # - Overlap of 200 ensures continuity between chunks\n",
        "        # - Separators prioritize natural breaks in scientific text\n",
        "        self.text_splitter = RecursiveCharacterTextSplitter(\n",
        "            chunk_size=1000,\n",
        "            chunk_overlap=200,\n",
        "            separators=[\"\\n\\n\", \"\\n\", \"(?<=\\. )\", \" \", \"\"]\n",
        "        )\n",
        "\n",
        "        # Will be initialized when documents are loaded\n",
        "        self.vector_store = None\n",
        "\n",
        "    def load_and_process(self, pdf_urls: List[str]):\n",
        "        \"\"\"\n",
        "        Process ArXiv PDFs with document-aware chunking\n",
        "\n",
        "        Args:\n",
        "            pdf_urls: List of URLs to ArXiv PDFs\n",
        "        \"\"\"\n",
        "        all_chunks = []\n",
        "\n",
        "        # Process each PDF\n",
        "        for url in pdf_urls:\n",
        "            print(boxen(f\"Loading PDF from {url}\", title=\">>> PDF Loading\", color=\"blue\", padding=1))\n",
        "            loader = PyPDFLoader(url)\n",
        "            pages = loader.load()\n",
        "\n",
        "            # Process each page\n",
        "            for page in pages:\n",
        "                # Convert PDF content to markdown-style text with headers\n",
        "                page_text = f\"# {page.metadata['source']}\\n## Page {page.metadata['page']}\\n{page.page_content}\"\n",
        "\n",
        "                # First split by headers to maintain document structure\n",
        "                header_chunks = self.header_splitter.split_text(page_text)\n",
        "\n",
        "                # Then split large sections into smaller chunks\n",
        "                small_chunks = self.text_splitter.split_documents(header_chunks)\n",
        "\n",
        "                # Add to our collection\n",
        "                all_chunks.extend(small_chunks)\n",
        "\n",
        "        print(boxen(f\"Created {len(all_chunks)} chunks from {len(pdf_urls)} PDFs\", title=\">>> Processing Complete\", color=\"green\", padding=1))\n",
        "\n",
        "        # Create vector store with OpenAI embeddings\n",
        "        self.vector_store = Chroma.from_documents(\n",
        "            documents=all_chunks,\n",
        "            embedding=OpenAIEmbeddings(),\n",
        "            persist_directory=\"./arxiv_db\"\n",
        "        )\n",
        "\n",
        "    def retrieve(self, question: str, confidence_threshold: float = 0.75, k: int = 5):\n",
        "        \"\"\"\n",
        "        Retrieve relevant chunks with confidence scoring\n",
        "\n",
        "        Args:\n",
        "            question: User question to find relevant information for\n",
        "            confidence_threshold: Minimum relevance score (0-1) to include a result\n",
        "            k: Maximum number of results to return\n",
        "\n",
        "        Returns:\n",
        "            List of relevant document chunks that meet the threshold\n",
        "        \"\"\"\n",
        "        if not self.vector_store:\n",
        "            raise ValueError(\"No ArXiv documents loaded. Run load_and_process first.\")\n",
        "\n",
        "        # Perform similarity search with relevance scores\n",
        "        results = self.vector_store.similarity_search_with_relevance_scores(\n",
        "            question, k=k\n",
        "        )\n",
        "\n",
        "        # Filter by confidence threshold\n",
        "        filtered_results = [doc for doc, score in results if score >= confidence_threshold]\n",
        "\n",
        "        print(boxen(f\"Found {len(filtered_results)} relevant chunks above threshold {confidence_threshold}\", title=\">>> Context\", color=\"yellow\", padding=1))\n",
        "\n",
        "        return filtered_results\n",
        "\n",
        "# Load sample ArXiv PDFs\n",
        "print(boxen(\"Initializing ArXiv processor with sample papers...\", title=\">>> Initialization\", color=\"cyan\", padding=1))\n",
        "arxiv_processor = ArXivProcessor()\n",
        "arxiv_processor.load_and_process([\n",
        "    \"https://arxiv.org/pdf/2504.10412\"   # LLM research paper\n",
        "])\n",
        "print(boxen(\"ArXiv processor initialized!\", title=\">>> Status\", color=\"green\", padding=1))"
      ]
    },
    {
      "cell_type": "markdown",
      "metadata": {
        "id": "OeaD77BupxMv"
      },
      "source": [
        "# ArXiv Retrieval Node Documentation\n",
        "\n",
        "## Overview\n",
        "The `arxiv_retrieval_node` function serves as a retrieval component in an agent-based system, fetching relevant scientific information from ArXiv papers based on user queries.\n",
        "\n",
        "## Function Signature\n",
        "`arxiv_retrieval_node(state: AgentState) -> dict`\n",
        "\n",
        "## Parameters\n",
        "- `state`: An AgentState object containing the current conversation state, including:\n",
        " - `question`: The user's query to search for in ArXiv papers\n",
        "\n",
        "## Functionality\n",
        "The function:\n",
        "1. Extracts the user's question from the input state\n",
        "2. Calls the `arxiv_processor.retrieve()` method to find relevant document chunks\n",
        "3. Uses a reduced confidence threshold (0.5) compared to the default (0.75) to improve recall\n",
        "4. Returns the retrieved documents for further processing\n",
        "\n",
        "## Return Value\n",
        "Returns a dictionary with:\n",
        "- `arxiv_results`: A list of document chunks from ArXiv papers relevant to the user's question\n",
        "\n",
        "## Integration Notes\n",
        "- This function is designed to be used as a node in an agent workflow\n",
        "- The reduced confidence threshold ensures more potential matches are returned, prioritizing recall over precision\n",
        "- The retrieved documents can be used by subsequent nodes for answering the user's question"
      ]
    },
    {
      "cell_type": "code",
      "execution_count": null,
      "metadata": {
        "id": "7QI0RXSbdvCv"
      },
      "outputs": [],
      "source": [
        "def arxiv_retrieval_node(state: AgentState) -> dict:\n",
        "    \"\"\"\n",
        "    Retrieves relevant information from ArXiv papers based on the question.\n",
        "\n",
        "    Args:\n",
        "        state: Current state containing the question\n",
        "\n",
        "    Returns:\n",
        "        Updated state with arxiv_results\n",
        "    \"\"\"\n",
        "    # Retrieve relevant documents from ArXiv\n",
        "    relevant_docs = arxiv_processor.retrieve(\n",
        "        question=state[\"question\"],\n",
        "        confidence_threshold=0.5  # Adjusted threshold for better recall\n",
        "    )\n",
        "\n",
        "    # Check if we found enough relevant content\n",
        "    return {\"arxiv_results\": relevant_docs}"
      ]
    },
    {
      "cell_type": "markdown",
      "metadata": {
        "id": "7SqO1XREiD7z"
      },
      "source": [
        "## 5. Web Search Node Implementation\n",
        "\n",
        "The **Web Search Node** uses the **Tavily API** to search the web when **ArXiv papers** don't have the answer.\n",
        "\n",
        "- **Optimizes** the search query\n",
        "- **Filters and processes** results\n",
        "- **Ensures** proper attribution\n"
      ]
    },
    {
      "cell_type": "code",
      "execution_count": null,
      "metadata": {
        "id": "_WsFmnmpd3CI"
      },
      "outputs": [],
      "source": [
        "web_searcher = TavilyClient()\n",
        "def web_search_node(state: AgentState) -> dict:\n",
        "    \"\"\"\n",
        "    Searches the web for information using the Tavily API.\n",
        "    \"\"\"\n",
        "    # Include academic domains to improve search quality\n",
        "    academic_domains = [\"arxiv.org\", \"scholar.google.com\", \"researchgate.net\", \"edu\"]\n",
        "\n",
        "    # Get search results with answer\n",
        "    search_response = web_searcher.search(\n",
        "        query=state[\"question\"],\n",
        "        max_results=5,\n",
        "        include_domains=academic_domains,\n",
        "        search_depth=\"advanced\",  # Use advanced search for better results\n",
        "        include_answer=True  # Request direct answer\n",
        "    )\n",
        "\n",
        "    # If we have a direct answer, use it\n",
        "    if search_response.get(\"answer\"):\n",
        "        return {\n",
        "            \"web_results\": search_response.get(\"results\", []),\n",
        "            \"direct_answer\": search_response[\"answer\"]\n",
        "        }\n",
        "\n",
        "    return {\"web_results\": search_response.get(\"results\", [])}"
      ]
    },
    {
      "cell_type": "markdown",
      "metadata": {
        "id": "cYoo-tCciKHn"
      },
      "source": [
        "# Function Documentation: `synthesize_answer_node`\n",
        "\n",
        "## Overview\n",
        "The `synthesize_answer_node` function is a key component in a LangChain-based conversational agent. It is responsible for generating a comprehensive answer based on either scientific research papers (from ArXiv) or web search results (via Tavily). The generated response is contextual, well-structured, and strictly grounded in the retrieved data.\n",
        "\n",
        "---\n",
        "\n",
        "## Purpose\n",
        "To synthesize a high-quality, structured, and citation-backed answer from the information retrieved during the conversational flow — either from ArXiv research papers or real-time web search results.\n",
        "\n",
        "---\n",
        "\n",
        "## Inputs\n",
        "\n",
        "- **state (AgentState)**:  \n",
        "  A dictionary representing the current state of the agent, which includes:\n",
        "  - `question`: The user's query.\n",
        "  - `arxiv_results`: A list of research paper excerpts (if available).\n",
        "  - `web_results`: A list of web search results (used when no ArXiv data is present).\n",
        "  - `conversation_history`: Context from previous exchanges to maintain continuity.\n",
        "\n",
        "---\n",
        "\n",
        "## Logic Flow\n",
        "\n",
        "1. **Source Determination**:  \n",
        "   The function first checks whether ArXiv results are available. If so, it uses them; otherwise, it falls back to web search results.\n",
        "\n",
        "2. **Prompt Construction**:  \n",
        "   A custom `prompt_template` is built depending on the data source. Each template includes:\n",
        "   - The original question.\n",
        "   - Retrieved content (formatted accordingly).\n",
        "   - Prior conversation context.\n",
        "   - Explicit instructions to ensure grounded, factual, and well-structured responses.\n",
        "\n",
        "3. **Model Invocation**:  \n",
        "   - Uses `ChatOpenAI` (specifically `gpt-4o-mini`) for advanced reasoning and response generation.\n",
        "   - Combines the prompt and model into a LangChain chain using `ChatPromptTemplate` and `StrOutputParser`.\n",
        "\n",
        "4. **Response Handling**:  \n",
        "   - If web results were used, the function appends a list of source URLs at the end of the response.\n",
        "   - If ArXiv sources were used, inline citations in the format `(Author et al., Page X)` are expected.\n",
        "\n",
        "---\n",
        "\n",
        "## Output\n",
        "\n",
        "- Returns a dictionary with a single key:  \n",
        "  - `answer`: A fully formatted, cited response derived from either research papers or search results.\n",
        "\n",
        "---\n",
        "\n",
        "## Key Characteristics\n",
        "\n",
        "- **Grounded Output**: The model is instructed not to hallucinate or invent facts.\n",
        "- **Citations Included**: Adds credibility and traceability via inline citations or URL references.\n",
        "- **Context-Aware**: Maintains conversation context to provide coherent multi-turn interactions.\n",
        "- **Readable Format**: Uses markdown elements such as headers, bullet points, and bold text for readability.\n",
        "\n",
        "---"
      ]
    },
    {
      "cell_type": "code",
      "execution_count": null,
      "metadata": {
        "id": "3h2iGpE9d8VM"
      },
      "outputs": [],
      "source": [
        "def synthesize_answer_node(state: AgentState) -> dict:\n",
        "    \"\"\"\n",
        "    Synthesizes a comprehensive answer from retrieved information.\n",
        "\n",
        "    Args:\n",
        "        state: Current state containing question and retrieved information\n",
        "\n",
        "    Returns:\n",
        "        Updated state with answer\n",
        "    \"\"\"\n",
        "    # If we have a direct answer from web search, use it\n",
        "    if state.get(\"direct_answer\"):\n",
        "        answer_content = state[\"direct_answer\"]\n",
        "        source_type = \"Web Search Results\"\n",
        "    else:\n",
        "        # Determine which source to use for synthesis\n",
        "        if state[\"arxiv_results\"] and len(state[\"arxiv_results\"]) > 0:\n",
        "            # Using ArXiv research papers\n",
        "            sources = \"\\n\\n\".join([\n",
        "                f\"--- Document: {d.metadata.get('source', 'Unknown')} (Page {d.metadata.get('page', 'Unknown')}) ---\\n{d.page_content}\"\n",
        "                for d in state[\"arxiv_results\"]\n",
        "            ])\n",
        "            displayed_sources = sources\n",
        "            source_type = \"ArXiv Papers\"\n",
        "\n",
        "            prompt_template = \"\"\"\n",
        "            You are a knowledgeable research assistant specializing in mathematical theory and scientific literature analysis.\n",
        "\n",
        "            Your goal is to generate clean, formatted responses to user questions based solely on the provided ArXiv sources.\n",
        "\n",
        "            ---\n",
        "\n",
        "            Question:\n",
        "            {question}\n",
        "\n",
        "            Relevant Extracts from ArXiv Papers:\n",
        "            {sources}\n",
        "\n",
        "            Conversation History:\n",
        "            {conversation_history}\n",
        "\n",
        "            ---\n",
        "\n",
        "            Instructions for Synthesizing the Answer:\n",
        "\n",
        "            1. Read the extracts thoroughly and understand the concepts.\n",
        "            2. Answer the question comprehensively using only the provided context.\n",
        "            3. Organize the response into the following markdown sections (if applicable):\n",
        "              - Summary\n",
        "              - Key Concepts\n",
        "              - Theoretical Results\n",
        "              - Implications / Applications\n",
        "            4. Cite from the paper in the format: (Author et al., Page X). If page number is unknown, write: (Author et al.).\n",
        "            6. Avoid repetition, excessive formal tone, or generic commentary. Be clear and concise.**\n",
        "            7. If the provided text lacks enough detail to answer, state it clearly and suggest what additional info is needed.\n",
        "\n",
        "            ---\n",
        "\n",
        "            Now, write a well-structured, markdown-formatted answer to the question and it should be in a readable format as well.\n",
        "            \"\"\"\n",
        "        else:\n",
        "            # Using web search results\n",
        "            sources = \"\\n\\n\".join([\n",
        "                f\"--- Source {i+1}: {res['title']} ---\\n{res['content']}\"\n",
        "                for i, res in enumerate(state[\"web_results\"] or [])\n",
        "            ])\n",
        "            displayed_sources = sources\n",
        "            source_type = \"Web Search Results\"\n",
        "\n",
        "            prompt_template = \"\"\"\n",
        "            You are a knowledgeable research assistant providing accurate information based on web search results.\n",
        "\n",
        "            Question: {question}\n",
        "\n",
        "            Here are relevant web search results:\n",
        "            {sources}\n",
        "\n",
        "            Conversation History:\n",
        "            {conversation_history}\n",
        "\n",
        "            Instructions:\n",
        "            1. Synthesize a comprehensive answer using ONLY the information provided above.\n",
        "            2. Cite sources using [1], [2], etc. corresponding to the source numbers above.\n",
        "            3. If the search results don't contain sufficient information, acknowledge the limitations.\n",
        "            4. DO NOT make up information not present in the sources.\n",
        "            5. Include only facts supported by the sources.\n",
        "\n",
        "            Your answer:\n",
        "            \"\"\"\n",
        "\n",
        "        # Print retrieval information\n",
        "        print(f\"\\n=== Retrieved chunks from {source_type} ===\")\n",
        "        print(displayed_sources)\n",
        "        print(\"=\"*80)\n",
        "\n",
        "        # Create the prompt\n",
        "        synthesis_prompt = ChatPromptTemplate.from_template(prompt_template)\n",
        "\n",
        "        # Use a more capable model for synthesis\n",
        "        llm = ChatOpenAI(model=\"gpt-4o-mini\")\n",
        "        chain = synthesis_prompt | llm | StrOutputParser()\n",
        "\n",
        "        # Generate the answer\n",
        "        response = chain.invoke({\n",
        "            \"question\": state[\"question\"],\n",
        "            \"sources\": sources,\n",
        "            \"conversation_history\": state[\"conversation_history\"]\n",
        "        })\n",
        "\n",
        "        # Add source citations for web results\n",
        "        if state.get(\"web_results\") and not state.get(\"arxiv_results\"):\n",
        "            answer_content = response\n",
        "\n",
        "            # Add URL references at the end\n",
        "            url_citations = \"\\n\\nSources:\\n\" + \"\\n\".join([\n",
        "                f\"[{i+1}] {res['url']}\"\n",
        "                for i, res in enumerate(state[\"web_results\"] or [])\n",
        "            ])\n",
        "\n",
        "            answer_content += url_citations\n",
        "        else:\n",
        "            answer_content = response\n",
        "\n",
        "    # Using markdown and plain text for better readability\n",
        "    formatted_output = f\"\"\"\n",
        "## Context\n",
        "**Question:** {state[\"question\"]}\n",
        "**Source:** {source_type}\n",
        "\n",
        "## Response\n",
        "{answer_content}\n",
        "\"\"\"\n",
        "\n",
        "    return {\"answer\": formatted_output}"
      ]
    },
    {
      "cell_type": "markdown",
      "metadata": {
        "id": "ePSZSMQBiaMC"
      },
      "source": [
        "## 7. Conversation Memory Node\n",
        "\n",
        "This node **manages conversation history** to provide context for **multi-turn interactions**.\n",
        "\n",
        "- **Stores** previous Q&A\n",
        "- **Updates** the state with the current interaction\n",
        "- **Maintains** a sliding window of relevant history\n"
      ]
    },
    {
      "cell_type": "code",
      "execution_count": null,
      "metadata": {
        "id": "Pgefbaa_eAfZ"
      },
      "outputs": [],
      "source": [
        "# Initialize conversation memory\n",
        "\n",
        "def update_memory_node(state: AgentState) -> dict:\n",
        "    \"\"\"\n",
        "    Updates the conversation memory with the current Q&A pair.\n",
        "\n",
        "    Args:\n",
        "        state: Current state with question and answer\n",
        "\n",
        "    Returns:\n",
        "        Updated state with new conversation_history\n",
        "    \"\"\"\n",
        "    # Save the current interaction to memory\n",
        "    memory = state['memory']\n",
        "    memory.save_context(\n",
        "        {\"question\": state[\"question\"]},\n",
        "        {\"answer\": state[\"answer\"]}\n",
        "    )\n",
        "\n",
        "    # Return the updated state\n",
        "    return {\"conversation_history\": memory.load_memory_variables({}).get(\"history\", \"\")}\n"
      ]
    },
    {
      "cell_type": "markdown",
      "metadata": {
        "id": "CxKEeu64iglN"
      },
      "source": [
        "# Workflow State Graph Setup\n",
        "\n",
        "## Overview\n",
        "This section sets up the **LangGraph state machine** for managing the conversational agent’s workflow. It defines how user queries are processed step-by-step using modular nodes.\n",
        "\n",
        "---\n",
        "\n",
        "## Purpose\n",
        "To create a graph-based control flow that determines how the agent processes input, performs retrieval, synthesizes responses, updates memory, and eventually ends the workflow.\n",
        "\n",
        "---\n",
        "\n",
        "## Key Components\n",
        "\n",
        "### 1. **Workflow Initialization**\n",
        "- A new `StateGraph` is initialized with the `AgentState` type, defining the structure of the workflow.\n",
        "\n",
        "### 2. **Node Definitions**\n",
        "The graph is composed of several functional nodes, each responsible for a specific task:\n",
        "- **router**: Determines whether to fetch data from the web or ArXiv.\n",
        "- **arxiv_retrieval**: Retrieves relevant research papers from ArXiv.\n",
        "- **web_search**: Retrieves web results via Tavily.\n",
        "- **synthesize**: Synthesizes a final answer from the retrieved information.\n",
        "- **update_memory**: Stores the interaction context for future turns.\n",
        "\n",
        "### 3. **Entry Point**\n",
        "- The `router` node is set as the initial entry point for the graph, meaning every workflow starts with routing logic.\n",
        "\n",
        "### 4. **Conditional Routing**\n",
        "- A conditional edge is established from `router` based on the `\"next\"` field in the state:\n",
        "  - If `\"next\"` is `\"web_search\"`, it routes to the `web_search` node.\n",
        "  - If `\"next\"` is `\"arxiv_retrieval\"`, it routes to the `arxiv_retrieval` node.\n",
        "\n",
        "### 5. **Workflow Sequence**\n",
        "The following fixed transitions define the remainder of the workflow:\n",
        "- From either `web_search` or `arxiv_retrieval` → go to `synthesize`\n",
        "- From `synthesize` → go to `update_memory`\n",
        "- From `update_memory` → reach `END` (completion of the flow)"
      ]
    },
    {
      "cell_type": "code",
      "execution_count": null,
      "metadata": {
        "id": "BRYbjFhHeEZt"
      },
      "outputs": [],
      "source": [
        "# Create the workflow state graph\n",
        "workflow = StateGraph(AgentState)\n",
        "\n",
        "# Add all nodes to the graph\n",
        "workflow.add_node(\"router\", router_node)\n",
        "workflow.add_node(\"arxiv_retrieval\", arxiv_retrieval_node)\n",
        "workflow.add_node(\"web_search\", web_search_node)\n",
        "workflow.add_node(\"synthesize\", synthesize_answer_node)\n",
        "workflow.add_node(\"update_memory\", update_memory_node)\n",
        "\n",
        "# Set entry point\n",
        "workflow.set_entry_point(\"router\")\n",
        "\n",
        "# Define conditional edges from router\n",
        "workflow.add_conditional_edges(\n",
        "    \"router\",\n",
        "    lambda state: state[\"next\"],\n",
        "    {\n",
        "        \"web_search\": \"web_search\",\n",
        "        \"arxiv_retrieval\": \"arxiv_retrieval\"\n",
        "    }\n",
        ")\n",
        "\n",
        "# Define rest of the edges\n",
        "workflow.add_edge(\"arxiv_retrieval\", \"synthesize\")\n",
        "workflow.add_edge(\"web_search\", \"synthesize\")\n",
        "workflow.add_edge(\"synthesize\", \"update_memory\")\n",
        "workflow.add_edge(\"update_memory\", END)\n",
        "\n",
        "# Compile the graph\n",
        "app = workflow.compile()"
      ]
    },
    {
      "cell_type": "code",
      "execution_count": null,
      "metadata": {
        "colab": {
          "base_uri": "https://localhost:8080/",
          "height": 603
        },
        "id": "3pkhue9nKX3A",
        "outputId": "c7a347b3-d22e-4991-dc31-1b8d283e266b"
      },
      "outputs": [
        {
          "name": "stderr",
          "output_type": "stream",
          "text": [
            "/usr/local/lib/python3.11/dist-packages/pydantic/_internal/_generate_schema.py:623: UserWarning: <built-in function any> is not a Python type (it may be an instance of an object), Pydantic will allow any object with no validation since we cannot even enforce that the input is an instance of the given type. To get rid of this error wrap the type with `pydantic.SkipValidation`.\n",
            "  warn(\n"
          ]
        },
        {
          "data": {
            "image/png": "[encoded data removed]",
            "text/plain": [
              "<IPython.core.display.Image object>"
            ]
          },
          "metadata": {},
          "output_type": "display_data"
        }
      ],
      "source": [
        "from IPython.display import Image, display\n",
        "display(Image(app.get_graph(xray=True).draw_mermaid_png()))"
      ]
    },
    {
      "cell_type": "markdown",
      "metadata": {
        "id": "0m4TP3xSioHc"
      },
      "source": [
        "## 9. Testing the System\n",
        "\n",
        "Let's **test our system** with different types of questions:\n",
        "\n",
        "- **Questions answerable** from ArXiv papers\n",
        "- **Questions requiring** web search\n",
        "- **Follow-up questions** to test memory\n"
      ]
    },
    {
      "cell_type": "code",
      "execution_count": null,
      "metadata": {
        "colab": {
          "base_uri": "https://localhost:8080/"
        },
        "id": "HgjgGd6EJOJO",
        "outputId": "a002fe3e-5370-4674-bfdd-068d568bbf0b"
      },
      "outputs": [
        {
          "name": "stderr",
          "output_type": "stream",
          "text": [
            "<ipython-input-13-f1712b8132d2>:1: LangChainDeprecationWarning: Please see the migration guide at: https://python.langchain.com/docs/versions/migrating_memory/\n",
            "  memory = ConversationBufferMemory(return_messages=False, output_key=\"answer\", input_key=\"question\")\n"
          ]
        }
      ],
      "source": [
        "memory = ConversationBufferMemory(return_messages=False, output_key=\"answer\", input_key=\"question\")\n",
        "initial_state = {\n",
        "    \"question\": None,\n",
        "    \"arxiv_results\": None,\n",
        "    \"web_results\": None,\n",
        "    \"answer\": \"\",\n",
        "    \"conversation_history\": memory.load_memory_variables({}).get(\"history\", \"\"),\n",
        "    \"memory\": memory\n",
        "}\n"
      ]
    },
    {
      "cell_type": "code",
      "execution_count": null,
      "metadata": {
        "id": "gFoxsXLWeHSv"
      },
      "outputs": [],
      "source": [
        "def ask(app, question: str, state: AgentState):\n",
        "    \"\"\"\n",
        "    Ask a question to the agentic RAG system.\n",
        "\n",
        "    Args:\n",
        "        question: User's question\n",
        "\n",
        "    Returns:\n",
        "        The system's answer\n",
        "    \"\"\"\n",
        "    # Initialize the state\n",
        "\n",
        "    # Invoke the workflow\n",
        "    state['question'] = question\n",
        "    result = app.invoke(state)\n",
        "    # Print the response details with pyboxen\n",
        "    print(boxen(f\"Question: {result['question']}\", title=\">>> Question\", color=\"blue\", padding=1))\n",
        "\n",
        "    if result[\"arxiv_results\"]:\n",
        "        arxiv_count = len(result[\"arxiv_results\"])\n",
        "        print(boxen(f\"Found {arxiv_count} ArXiv results\", title=\">>> ArXiv Results\", color=\"magenta\", padding=1))\n",
        "    elif result[\"web_results\"]:\n",
        "        web_count = len(result[\"web_results\"])\n",
        "        print(boxen(f\"Found {web_count} Web results\", title=\">>> Web Results\", color=\"magenta\", padding=1))\n",
        "    else:\n",
        "        print(boxen(\"No results found\", title=\">>> Results\", color=\"red\", padding=1))\n",
        "\n",
        "    print(boxen(result[\"answer\"], title=\">>> Answer\", color=\"green\", padding=1))\n",
        "    return result\n",
        "\n"
      ]
    },
    {
      "cell_type": "code",
      "execution_count": null,
      "metadata": {
        "colab": {
          "base_uri": "https://localhost:8080/",
          "height": 1000
        },
        "id": "b0Ps7Nw1exMl",
        "outputId": "5c4f1559-6c79-4882-873a-53d4a177225a"
      },
      "outputs": [
        {
          "name": "stdout",
          "output_type": "stream",
          "text": [
            "Router decision: arxiv\n"
          ]
        },
        {
          "data": {
            "text/html": [
              "<pre style=\"white-space:pre;overflow-x:auto;line-height:normal;font-family:Menlo,'DejaVu Sans Mono',consolas,'Courier New',monospace\"></pre>\n"
            ],
            "text/plain": []
          },
          "metadata": {},
          "output_type": "display_data"
        },
        {
          "name": "stdout",
          "output_type": "stream",
          "text": [
            "\u001b[33m╭─\u001b[0m\u001b[33m >>> Context \u001b[0m\u001b[33m──────────────────────────────────\u001b[0m\u001b[33m─╮\u001b[0m                                                                \n",
            "\u001b[33m│\u001b[0m                                                 \u001b[33m│\u001b[0m                                                                \n",
            "\u001b[33m│\u001b[0m   Found 5 relevant chunks above threshold 0.5   \u001b[33m│\u001b[0m                                                                \n",
            "\u001b[33m│\u001b[0m                                                 \u001b[33m│\u001b[0m                                                                \n",
            "\u001b[33m╰─────────────────────────────────────────────────╯\u001b[0m                                                                \n",
            "\n",
            "\n",
            "=== Retrieved chunks from ArXiv Papers ===\n",
            "--- Document: Unknown (Page Unknown) ---\n",
            "a scalable, AI-driven path to cleaner codebases, vital for\n",
            "software engineering’s future.  \n",
            "Index Terms— Graph Neural Networks, Code\n",
            "Refactoring, Software Maintainability, Abstract Syntax\n",
            "Trees, Machine Learning, Cyclomatic Complexity, Code\n",
            "Coupling, Software Engineering.\n",
            "I. INTRODUCTION\n",
            "Software refactoring—the art of tweaking code to make it\n",
            "cleaner, more readable, and easier to maintain without changing\n",
            "its behaviors at the heart of modern software engineering.\n",
            "Picture a sprawling codebase: functions tangled in loops,\n",
            "variables sprawling across modules, and complexity creeping\n",
            "up like vines. Developers spend 30% of their time wrestling\n",
            "with such messes, according to a 2023 GitHub survey [1]. The\n",
            "stakes are high—poor maintainability spikes bugs by 25% and\n",
            "slows feature rollouts by 40% [2]. Traditional tools like\n",
            "SonarQube or Check style flag issues (e.g., methods with 20+\n",
            "lines), but their rigid rules miss the forest for the trees. Enter\n",
            "\n",
            "--- Document: Unknown (Page Unknown) ---\n",
            "peek ahead (real-time refactoring bots). Bar charts compare\n",
            "precision, tables list metrics, and AST graphs show GNN\n",
            "magic. It is a step toward codebases that do not fight back.\n",
            "II. THEORETICAL BACKGROUND\n",
            "Code refactoring is not new—Fowler’s 1999 book codified it:\n",
            "extract methods, reduce duplication, tame complexity [8].\n",
            "Maintainability hinges on metrics: cyclomatic complexity\n",
            "(paths through code—10’s a red flag), coupling (module\n",
            "dependencies—5+ screams trouble), and cohesion (how tight a\n",
            "module’s purpose is) [9]. High complexity—like a 50-path\n",
            "function—means bugs hide easier; tight coupling—like twenty\n",
            "cross-module calls—means changes ripple hard. ASTs\n",
            "formalize this. A Python line, if x > 0: y = x, becomes a tree:\n",
            "AI-Driven Code Refactoring: Using Graph Neural Networks to Enhance\n",
            "Software Maintainability\n",
            "Gopichand Bandarupalli1\n",
            "1ai.ml.research.articles@gmail.com\n",
            "1Professional M.B.A., Campbellsville university, Texas, USA\n",
            "\n",
            "--- Document: Unknown (Page Unknown) ---\n",
            "slows feature rollouts by 40% [2]. Traditional tools like\n",
            "SonarQube or Check style flag issues (e.g., methods with 20+\n",
            "lines), but their rigid rules miss the forest for the trees. Enter\n",
            "artificial intelligence (AI), where machine learning (ML)\n",
            "promises to spot patterns humans and static analyzers overlook.\n",
            "This study dives into Graph Neural Networks (GNNs), a\n",
            "cutting-edge ML flavor, to see if they can outsmart these old-\n",
            "school approaches in refactoring code.\n",
            "Why GNNs Code is not just text—it is a structure. Abstract\n",
            "Syntax Trees (ASTs) turn code into graphs: nodes for functions,\n",
            "edges for calls, loops as cycles. GNNs thrive on graphs,\n",
            "learning relationships—like how a nested loop jacks up\n",
            "complexity or a global variable ties modules in knots [3].\n",
            "Traditional ML, say decision trees, flattens code into feature\n",
            "lists (e.g., line count, variable count), losing that structural\n",
            "juice. Rule-based tools They are stuck on hardcoded\n",
            "thresholds—cyclomatic complexity over 10, bad; under, good.\n",
            "\n",
            "--- Document: Unknown (Page Unknown) ---\n",
            "complexity (aiming below 10), coupling (targeting <5\n",
            "dependencies), and refactoring precision (correct suggestions\n",
            "out of 1000). Tools like PyTorch Geometric and Tree-sitter\n",
            "parse ASTs, while PMD tracks metrics [5]. Expect deep dives\n",
            "into preprocessing (50% of files had syntax errors), GNN\n",
            "tuning (80% validation accuracy), and results (92% GNN\n",
            "precision vs. 78% SonarQube).Why care Software eats the\n",
            "world—$4.5 trillion in 2025 spending [6]and maintainability is\n",
            "its lifeline. A 2022 study found 60% of developers want AI to\n",
            "automate refactoring [7]. This research delivers: a GNN\n",
            "pipeline that learns from code’s bones, not just its skin,\n",
            "promising faster, smarter fixes. Sections unpack theory (ASTs,\n",
            "GNNs), past work (static vs. ML tools), methods (data\n",
            "wrangling, model specs), experiments (graphs galore), and a\n",
            "peek ahead (real-time refactoring bots). Bar charts compare\n",
            "precision, tables list metrics, and AST graphs show GNN\n",
            "magic. It is a step toward codebases that do not fight back.\n",
            "\n",
            "--- Document: Unknown (Page Unknown) ---\n",
            "1  \n",
            "Abstract— This study dives into Graph Neural Networks\n",
            "(GNNs) as a game-changer for code refactoring, leveraging\n",
            "abstract syntax trees (ASTs) to enhance software\n",
            "maintainability. By analyzing a massive dataset—2 million\n",
            "snippets from CodeSearchNet and a custom 75,000-file\n",
            "GitHub Python corpus—it pits GNNs against rule-based\n",
            "SonarQube and traditional decision trees. Metrics like\n",
            "cyclomatic complexity (target <10), coupling (aim <5), and\n",
            "refactoring precision (correct suggestions) drive the\n",
            "comparison. GNNs hit 92% accuracy, slashing complexity\n",
            "by 35% and coupling by 33%, outpacing SonarQube (78%,\n",
            "16%) and decision trees (85%, 25%). Detailed\n",
            "preprocessing tackled 60% syntax errors, while bar graphs,\n",
            "tables, and AST visuals unpack the results. This work offers\n",
            "a scalable, AI-driven path to cleaner codebases, vital for\n",
            "software engineering’s future.  \n",
            "Index Terms— Graph Neural Networks, Code\n",
            "Refactoring, Software Maintainability, Abstract Syntax\n",
            "================================================================================\n"
          ]
        },
        {
          "data": {
            "text/html": [
              "<pre style=\"white-space:pre;overflow-x:auto;line-height:normal;font-family:Menlo,'DejaVu Sans Mono',consolas,'Courier New',monospace\"></pre>\n"
            ],
            "text/plain": []
          },
          "metadata": {},
          "output_type": "display_data"
        },
        {
          "name": "stdout",
          "output_type": "stream",
          "text": [
            "\u001b[34m╭─\u001b[0m\u001b[34m >>> Question \u001b[0m\u001b[34m────────────────────────────\u001b[0m\u001b[34m─╮\u001b[0m                                                                     \n",
            "\u001b[34m│\u001b[0m                                            \u001b[34m│\u001b[0m                                                                     \n",
            "\u001b[34m│\u001b[0m   Question: Explain Software Refactoring   \u001b[34m│\u001b[0m                                                                     \n",
            "\u001b[34m│\u001b[0m                                            \u001b[34m│\u001b[0m                                                                     \n",
            "\u001b[34m╰────────────────────────────────────────────╯\u001b[0m                                                                     \n",
            "\n"
          ]
        },
        {
          "data": {
            "text/html": [
              "<pre style=\"white-space:pre;overflow-x:auto;line-height:normal;font-family:Menlo,'DejaVu Sans Mono',consolas,'Courier New',monospace\"></pre>\n"
            ],
            "text/plain": []
          },
          "metadata": {},
          "output_type": "display_data"
        },
        {
          "name": "stdout",
          "output_type": "stream",
          "text": [
            "\u001b[35m╭─\u001b[0m\u001b[35m >>> ArXiv Results \u001b[0m\u001b[35m──────\u001b[0m\u001b[35m─╮\u001b[0m                                                                                      \n",
            "\u001b[35m│\u001b[0m                           \u001b[35m│\u001b[0m                                                                                      \n",
            "\u001b[35m│\u001b[0m   Found 5 ArXiv results   \u001b[35m│\u001b[0m                                                                                      \n",
            "\u001b[35m│\u001b[0m                           \u001b[35m│\u001b[0m                                                                                      \n",
            "\u001b[35m╰───────────────────────────╯\u001b[0m                                                                                      \n",
            "\n"
          ]
        },
        {
          "data": {
            "text/html": [
              "<pre style=\"white-space:pre;overflow-x:auto;line-height:normal;font-family:Menlo,'DejaVu Sans Mono',consolas,'Courier New',monospace\"></pre>\n"
            ],
            "text/plain": []
          },
          "metadata": {},
          "output_type": "display_data"
        },
        {
          "name": "stdout",
          "output_type": "stream",
          "text": [
            "\u001b[32m╭─\u001b[0m\u001b[32m >>> Answer \u001b[0m\u001b[32m───────────────────────────────────────────────────────────────────────────────────────────────────\u001b[0m\u001b[32m─╮\u001b[0m\n",
            "\u001b[32m│\u001b[0m                                                                                                                 \u001b[32m│\u001b[0m\n",
            "\u001b[32m│\u001b[0m                                                                                                                 \u001b[32m│\u001b[0m\n",
            "\u001b[32m│\u001b[0m   ## Context                                                                                                    \u001b[32m│\u001b[0m\n",
            "\u001b[32m│\u001b[0m   **Question:** Explain Software Refactoring                                                                    \u001b[32m│\u001b[0m\n",
            "\u001b[32m│\u001b[0m   **Source:** ArXiv Papers                                                                                      \u001b[32m│\u001b[0m\n",
            "\u001b[32m│\u001b[0m                                                                                                                 \u001b[32m│\u001b[0m\n",
            "\u001b[32m│\u001b[0m   ## Response                                                                                                   \u001b[32m│\u001b[0m\n",
            "\u001b[32m│\u001b[0m   # Software Refactoring                                                                                        \u001b[32m│\u001b[0m\n",
            "\u001b[32m│\u001b[0m                                                                                                                 \u001b[32m│\u001b[0m\n",
            "\u001b[32m│\u001b[0m   ## Summary                                                                                                    \u001b[32m│\u001b[0m\n",
            "\u001b[32m│\u001b[0m   Software refactoring is the process of enhancing code quality without altering its external behavior,         \u001b[32m│\u001b[0m\n",
            "\u001b[32m│\u001b[0m   ultimately contributing to cleaner, more maintainable codebases. It addresses issues such as complexity,      \u001b[32m│\u001b[0m\n",
            "\u001b[32m│\u001b[0m   readability, and overall maintainability, which are critical aspects of modern software engineering.          \u001b[32m│\u001b[0m\n",
            "\u001b[32m│\u001b[0m                                                                                                                 \u001b[32m│\u001b[0m\n",
            "\u001b[32m│\u001b[0m   ## Key Concepts                                                                                               \u001b[32m│\u001b[0m\n",
            "\u001b[32m│\u001b[0m   1. **Definition**: Refactoring involves making small tweaks to a codebase to improve clarity and              \u001b[32m│\u001b[0m\n",
            "\u001b[32m│\u001b[0m   organization while ensuring no behavioral changes occur (Bandarupalli).                                       \u001b[32m│\u001b[0m\n",
            "\u001b[32m│\u001b[0m   2. **Importance**: According to a 2023 survey, developers spend about 30% of their time dealing with          \u001b[32m│\u001b[0m\n",
            "\u001b[32m│\u001b[0m   complex and poorly structured code, leading to increased bugs and slowed feature development                  \u001b[32m│\u001b[0m\n",
            "\u001b[32m│\u001b[0m   (Bandarupalli).                                                                                               \u001b[32m│\u001b[0m\n",
            "\u001b[32m│\u001b[0m   3. **Metrics**:                                                                                               \u001b[32m│\u001b[0m\n",
            "\u001b[32m│\u001b[0m      - **Cyclomatic Complexity**: Measures paths through the code; values above 10 are often worrisome.         \u001b[32m│\u001b[0m\n",
            "\u001b[32m│\u001b[0m      - **Coupling**: Refers to the dependencies between modules; values higher than 5 indicate potential        \u001b[32m│\u001b[0m\n",
            "\u001b[32m│\u001b[0m   trouble.                                                                                                      \u001b[32m│\u001b[0m\n",
            "\u001b[32m│\u001b[0m      - **Cohesion**: Describes how closely related and focused the responsibilities of a module are             \u001b[32m│\u001b[0m\n",
            "\u001b[32m│\u001b[0m   (Bandarupalli).                                                                                               \u001b[32m│\u001b[0m\n",
            "\u001b[32m│\u001b[0m                                                                                                                 \u001b[32m│\u001b[0m\n",
            "\u001b[32m│\u001b[0m   ## Theoretical Results                                                                                        \u001b[32m│\u001b[0m\n",
            "\u001b[32m│\u001b[0m   Recent studies involve applying Graph Neural Networks (GNNs) in the realm of code refactoring, utilizing      \u001b[32m│\u001b[0m\n",
            "\u001b[32m│\u001b[0m   Abstract Syntax Trees (ASTs) to analyze code structure more effectively than traditional methods. GNNs        \u001b[32m│\u001b[0m\n",
            "\u001b[32m│\u001b[0m   achieved a precision of 92% in refactoring suggestions, showing significant improvements over conventional    \u001b[32m│\u001b[0m\n",
            "\u001b[32m│\u001b[0m   tools like SonarQube, which had a precision of 78% (Bandarupalli).                                            \u001b[32m│\u001b[0m\n",
            "\u001b[32m│\u001b[0m                                                                                                                 \u001b[32m│\u001b[0m\n",
            "\u001b[32m│\u001b[0m   ## Implications / Applications                                                                                \u001b[32m│\u001b[0m\n",
            "\u001b[32m│\u001b[0m   The advancement of AI-driven approaches, particularly through machine learning techniques like GNNs,          \u001b[32m│\u001b[0m\n",
            "\u001b[32m│\u001b[0m   promises to streamline refactoring tasks. This research indicates a shift in the landscape of software        \u001b[32m│\u001b[0m\n",
            "\u001b[32m│\u001b[0m   engineering towards more automated refactoring solutions, addressing maintainability challenges more          \u001b[32m│\u001b[0m\n",
            "\u001b[32m│\u001b[0m   effectively (Bandarupalli). The tools developed can potentially reduce cyclomatic complexity by 35% and       \u001b[32m│\u001b[0m\n",
            "\u001b[32m│\u001b[0m   coupling by 33%, showcasing GNNs as a viable solution for cleaner code management in increasingly complex     \u001b[32m│\u001b[0m\n",
            "\u001b[32m│\u001b[0m   codebases (Bandarupalli).                                                                                     \u001b[32m│\u001b[0m\n",
            "\u001b[32m│\u001b[0m                                                                                                                 \u001b[32m│\u001b[0m\n",
            "\u001b[32m│\u001b[0m   By improving maintainability, software engineering can better accommodate the growing demand for software     \u001b[32m│\u001b[0m\n",
            "\u001b[32m│\u001b[0m   features and reduce the incidence of bugs, thus enhancing overall productivity and software quality.          \u001b[32m│\u001b[0m\n",
            "\u001b[32m│\u001b[0m                                                                                                                 \u001b[32m│\u001b[0m\n",
            "\u001b[32m│\u001b[0m                                                                                                                 \u001b[32m│\u001b[0m\n",
            "\u001b[32m╰─────────────────────────────────────────────────────────────────────────────────────────────────────────────────╯\u001b[0m\n",
            "\n"
          ]
        }
      ],
      "source": [
        "# Test with a question about quantum computing (should use ArXiv)\n",
        "updated_state = ask(app, \"Explain Software Refactoring\", initial_state)"
      ]
    },
    {
      "cell_type": "markdown",
      "metadata": {
        "id": "7TtHrxeMo1mr"
      },
      "source": [
        "## 🎓 Conclusion\n",
        "\n",
        "The Agentic RAG System with ArXiv + Web Fallback represents a powerful approach to information retrieval and synthesis, combining the best of both academic and real-time knowledge sources. By intelligently routing queries and maintaining conversation context, it provides:\n",
        "\n",
        "- **Comprehensive Answers**: Leveraging both academic papers and current web information\n",
        "- **Proper Attribution**: Ensuring all sources are properly cited\n",
        "- **Contextual Understanding**: Maintaining conversation history for coherent interactions\n",
        "- **Flexible Knowledge Access**: Adapting to different types of queries and information needs\n",
        "\n",
        "This system is particularly valuable for:\n",
        "- Researchers seeking both theoretical foundations and practical applications\n",
        "- Developers looking for up-to-date technical information\n",
        "- Students and professionals needing comprehensive, well-sourced answers\n",
        "- Anyone requiring a balance between academic rigor and current information\n",
        "\n",
        "The modular architecture and use of LangGraph make it easy to extend and adapt the system for specific use cases or additional knowledge sources."
      ]
    }
  ],
  "metadata": {
    "colab": {
      "gpuType": "T4",
      "provenance": []
    },
    "kernelspec": {
      "display_name": ".venv",
      "language": "python",
      "name": "python3"
    },
    "language_info": {
      "codemirror_mode": {
        "name": "ipython",
        "version": 3
      },
      "file_extension": ".py",
      "mimetype": "text/x-python",
      "name": "python",
      "nbconvert_exporter": "python",
      "pygments_lexer": "ipython3",
      "version": "3.9.6"
    }
  },
  "nbformat": 4,
  "nbformat_minor": 0
}
